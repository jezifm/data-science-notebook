{
 "cells": [
  {
   "cell_type": "markdown",
   "metadata": {},
   "source": [
    "![Prudential](http://static.wixstatic.com/media/282a5d_e3e7a437f4b04f82951ea49f379f567e.png)"
   ]
  },
  {
   "cell_type": "code",
   "execution_count": 1,
   "metadata": {
    "collapsed": false
   },
   "outputs": [
    {
     "name": "stderr",
     "output_type": "stream",
     "text": [
      "C:\\Users\\asus1\\Anaconda2\\lib\\site-packages\\pandas\\computation\\__init__.py:19: UserWarning: The installed version of numexpr 2.4.4 is not supported in pandas and will be not be used\n",
      "\n",
      "  UserWarning)\n"
     ]
    }
   ],
   "source": [
    "import pandas as pd\n",
    "import numpy as np\n",
    "\n",
    "from itertools import combinations\n",
    "\n",
    "from sklearn.ensemble import RandomForestClassifier\n",
    "from sklearn.linear_model import LinearRegression\n",
    "from sklearn.cross_validation import cross_val_score\n",
    "from sklearn.metrics import make_scorer\n",
    "from sklearn.grid_search import RandomizedSearchCV\n",
    "\n",
    "%matplotlib inline\n",
    "import matplotlib.pyplot as plt\n",
    "import seaborn as sns"
   ]
  },
  {
   "cell_type": "markdown",
   "metadata": {},
   "source": [
    "## Objective\n",
    "\n",
    "In this dataset, you are provided over a hundred variables describing attributes of life insurance applicants. The task is to predict the \"Response\" variable for each Id in the test set. \"Response\" is an ordinal measure of risk that has 8 levels.\n",
    "\n",
    "#### File descriptions\n",
    "\n",
    "* __train.csv.gz__ - the training set, contains the Response values\n",
    "* __test.csv.gz__ - the test set, you must predict the Response variable for all rows in this file\n",
    "* __sample_submission.csv.gz__ - a sample submission file in the correct format\n",
    "Data fields\n",
    "\n",
    "Variable|Description\n",
    "---|---\n",
    "Id|A unique identifier associated with an application.\n",
    "Product_Info_1-7|A set of normalized variables relating to the product applied for\n",
    "Ins_Age|Normalized age of applicant\n",
    "Ht|Normalized height of applicant\n",
    "Wt|Normalized weight of applicant\n",
    "BMI|Normalized BMI of applicant\n",
    "Employment_Info_1-6|A set of normalized variables relating to the employment history of the applicant.\n",
    "InsuredInfo_1-6|A set of normalized variables providing information about the applicant.\n",
    "Insurance_History_1-9|A set of normalized variables relating to the insurance history of the applicant.\n",
    "Family_Hist_1-5|A set of normalized variables relating to the family history of the applicant.\n",
    "Medical_History_1-41|A set of normalized variables relating to the medical history of the applicant.\n",
    "Medical_Keyword_1-48|A set of dummy variables relating to the presence of/absence of a medical keyword being associated with the application.\n",
    "Response|This is the target variable, an ordinal variable relating to the final decision associated with an application\n",
    "\n",
    "#### The following variables are all categorical (nominal):\n",
    "\n",
    "*  Employment\\_Info\\_[2-3, 5]\n",
    "*  Family_Hist_1, \n",
    "*  Insurance\\_History\\_[1-4, 7-9]\n",
    "*  InsuredInfo\\_[1-7], \n",
    "*  Medical\\_History\\_[2-9, 11-14, 16-23, 25-31, 33-41]\n",
    "*  Product\\_Info\\_[1-3, 5-7] \n",
    "\n",
    "#### The following variables are continuous:\n",
    "\n",
    "* BMI \n",
    "* Employment\\_Info\\_[1, 4, 6] \n",
    "* Family\\_Hist\\_[2-5]\n",
    "* Ht \n",
    "* Ins\\_Age \n",
    "* Insurance\\_History\\_5 \n",
    "* Product\\_Info\\_4 \n",
    "* Wt \n",
    "\n",
    "#### The following variables are discrete:\n",
    "\n",
    "* Medical\\_History\\_[1, 10, 15, 24, 32]\n",
    "\n",
    "Medical_Keyword_1-48 are dummy variables."
   ]
  },
  {
   "cell_type": "code",
   "execution_count": 3,
   "metadata": {
    "collapsed": false
   },
   "outputs": [],
   "source": [
    "train = pd.read_csv('input/train.csv.gz')\n",
    "pred_col = 'Response'"
   ]
  },
  {
   "cell_type": "code",
   "execution_count": 115,
   "metadata": {
    "collapsed": false
   },
   "outputs": [],
   "source": [
    "nul_cols = [col for col in train.columns[train.isnull().any()]]\n",
    "cat_cols = [col for col in train.columns[train.dtypes=='object'] if col not in nul_cols]\n",
    "\n",
    "dummies = pd.get_dummies(train[cat_cols])\n",
    "x_train = train.drop(['Id', pred_col] + cat_cols + nul_cols, axis=1)\n",
    "x_train = x_train.join(dummies)\n",
    "y_train = train[pred_col]"
   ]
  },
  {
   "cell_type": "code",
   "execution_count": 5,
   "metadata": {
    "collapsed": false
   },
   "outputs": [
    {
     "data": {
      "text/plain": [
       "RandomForestClassifier(bootstrap=True, class_weight=None, criterion='gini',\n",
       "            max_depth=None, max_features='auto', max_leaf_nodes=None,\n",
       "            min_samples_leaf=1, min_samples_split=2,\n",
       "            min_weight_fraction_leaf=0.0, n_estimators=10, n_jobs=1,\n",
       "            oob_score=False, random_state=0, verbose=0, warm_start=False)"
      ]
     },
     "execution_count": 5,
     "metadata": {},
     "output_type": "execute_result"
    }
   ],
   "source": [
    "rf = RandomForestClassifier(random_state=0)\n",
    "rf.fit(x_train, y_train)"
   ]
  },
  {
   "cell_type": "code",
   "execution_count": 6,
   "metadata": {
    "collapsed": false
   },
   "outputs": [
    {
     "data": {
      "text/plain": [
       "<matplotlib.axes._subplots.AxesSubplot at 0x199d1780>"
      ]
     },
     "execution_count": 6,
     "metadata": {},
     "output_type": "execute_result"
    },
    {
     "data": {
      "image/png": "[encoded data removed]",
      "text/plain": [
       "<matplotlib.figure.Figure at 0x198db320>"
      ]
     },
     "metadata": {},
     "output_type": "display_data"
    }
   ],
   "source": [
    "important_features = (pd.DataFrame({\n",
    "        'feature': x_train.columns,\n",
    "        'weights': rf.feature_importances_})\n",
    "    .sort_values('weights', ascending=False)\n",
    "    .reset_index(drop=True))\n",
    "important_features['weights'].plot()"
   ]
  },
  {
   "cell_type": "code",
   "execution_count": 7,
   "metadata": {
    "collapsed": false
   },
   "outputs": [],
   "source": [
    "top_features = important_features.ix[:10, 'feature']"
   ]
  },
  {
   "cell_type": "markdown",
   "metadata": {},
   "source": [
    "## Evaluation\n",
    "\n",
    "Submissions are scored based on the quadratic weighted kappa, which measures the agreement between two ratings. This metric typically varies from 0 (random agreement) to 1 (complete agreement). In the event that there is less agreement between the raters than expected by chance, this metric may go below 0.\n",
    "\n",
    "The response variable has 8 possible ratings.  Each application is characterized by a tuple ($e_a$,$e_b$), which corresponds to its scores by Rater A (actual risk) and Rater B (predicted risk).  The quadratic weighted kappa is calculated as follows.\n",
    "\n",
    "First, an N x N histogram **matrix O** is constructed, such that $O_{i,j}$ corresponds to the number of applications that received a rating i by A and a rating j by B. \n",
    "\n",
    "An N-by-N **matrix of weights, w**, is calculated based on the difference between raters' scores:\n",
    "\n",
    "$$w_{i,j}=\\frac{(i-j)^2}{(N-1)^2}$$\n",
    "\n",
    "An N-by-N histogram **matrix of expected ratings, E**, is calculated, assuming that there is no correlation between rating scores.  This is calculated as the outer product between each rater's histogram vector of ratings, normalized such that E and O have the same sum.\n",
    "\n",
    "From these three matrices, the quadratic weighted kappa is calculated as: \n",
    "\n",
    "$$\\kappa = 1 - \\frac{\\sum_{i,j}w_{i,j}O_{i,j}}{\\sum_{i,j}w_{i,j}E_{i,j}}$$"
   ]
  },
  {
   "cell_type": "code",
   "execution_count": 8,
   "metadata": {
    "collapsed": false
   },
   "outputs": [],
   "source": [
    "def quadratic_weighted_kappa(y_true, y_pred):\n",
    "    n_ratings = 8\n",
    "    \n",
    "    # Matrix O\n",
    "    matrix_O = np.histogram2d(y_true, y_pred, bins=[n_ratings, n_ratings])[0].astype(np.float64)\n",
    "    \n",
    "    # Matrix W\n",
    "    ratings = np.arange(n_ratings) + 1\n",
    "    xx, yy = np.meshgrid(ratings, ratings)\n",
    "    z = np.c_[xx.ravel(), yy.ravel()]\n",
    "    def weight_fn(arr, N=n_ratings):\n",
    "        i, j = arr\n",
    "        return (i - j)**2 / float((N - 1)**2)\n",
    "    matrix_W = np.apply_along_axis(func1d=weight_fn, axis=1, arr=z).reshape((n_ratings, n_ratings))\n",
    "\n",
    "    # Matrix E\n",
    "    hist_true = np.bincount(y_true, minlength=n_ratings+1)[1:]\n",
    "    hist_pred = np.bincount(y_pred, minlength=n_ratings+1)[1:]\n",
    "    matrix_E = np.outer(hist_true, hist_pred).astype(np.float64)\n",
    "    matrix_E = matrix_E * (matrix_O.sum() / matrix_E.sum())\n",
    "    \n",
    "    numer = np.sum(matrix_W * matrix_O)\n",
    "    denom = np.sum(matrix_W * matrix_E)\n",
    "    return 1 - numer/denom\n",
    "quadratic_weighted_kappa = make_scorer(quadratic_weighted_kappa)\n",
    "# quadratic_weighted_kappa(y_true, y_pred)"
   ]
  },
  {
   "cell_type": "code",
   "execution_count": 196,
   "metadata": {
    "collapsed": false
   },
   "outputs": [
    {
     "data": {
      "text/plain": [
       "0.46888088213095125"
      ]
     },
     "execution_count": 196,
     "metadata": {},
     "output_type": "execute_result"
    }
   ],
   "source": [
    "print 'Using all features...'\n",
    "scores = cross_val_score(rf, x_train, y_train, cv=10, scoring=quadratic_weighted_kappa)\n",
    "scores.mean()"
   ]
  },
  {
   "cell_type": "markdown",
   "metadata": {},
   "source": [
    "Score using top features..."
   ]
  },
  {
   "cell_type": "code",
   "execution_count": 123,
   "metadata": {
    "collapsed": false
   },
   "outputs": [
    {
     "data": {
      "text/plain": [
       "0.515062374588384"
      ]
     },
     "execution_count": 123,
     "metadata": {},
     "output_type": "execute_result"
    }
   ],
   "source": [
    "class CustomLM(LinearRegression):\n",
    "    def predict(self, *args):\n",
    "        pred = super(CustomLM, self).predict(*args)\n",
    "        return np.clip(np.round(pred), 1, 8).astype(np.int16)\n",
    "lm = CustomLM()\n",
    "scores = cross_val_score(lm, x_train, y_train, cv=10, scoring=quadratic_weighted_kappa)\n",
    "scores.mean()"
   ]
  },
  {
   "cell_type": "code",
   "execution_count": 9,
   "metadata": {
    "collapsed": false
   },
   "outputs": [
    {
     "data": {
      "text/plain": [
       "RandomizedLasso(alpha='aic', eps=2.2204460492503131e-16, fit_intercept=True,\n",
       "        max_iter=500, memory=Memory(cachedir=None), n_jobs=1,\n",
       "        n_resampling=200, normalize=True, pre_dispatch='3*n_jobs',\n",
       "        precompute='auto', random_state=None, sample_fraction=0.75,\n",
       "        scaling=0.5, selection_threshold=0.25, verbose=False)"
      ]
     },
     "execution_count": 9,
     "metadata": {},
     "output_type": "execute_result"
    }
   ],
   "source": [
    "from sklearn.linear_model import RandomizedLasso\n",
    "rlasso = RandomizedLasso()\n",
    "rlasso.fit(x_train, y_train)"
   ]
  },
  {
   "cell_type": "code",
   "execution_count": 10,
   "metadata": {
    "collapsed": false
   },
   "outputs": [],
   "source": [
    "feat_weight = (pd.DataFrame({\n",
    "            'weight': rlasso.all_scores_.ravel(), \n",
    "            'feature': x_train.columns.tolist()}))\n",
    "feat_weight = feat_weight.sort_values('weight', ascending=False)\n",
    "imp_feats = feat_weight.ix[feat_weight['weight']==1, 'feature']"
   ]
  },
  {
   "cell_type": "code",
   "execution_count": 533,
   "metadata": {
    "collapsed": false
   },
   "outputs": [
    {
     "data": {
      "text/plain": [
       "0.46741101642136906"
      ]
     },
     "execution_count": 533,
     "metadata": {},
     "output_type": "execute_result"
    }
   ],
   "source": [
    "cross_val_score(rf, x_train[imp_feats], y_train, cv=10, scoring=quadratic_weighted_kappa).mean()"
   ]
  },
  {
   "cell_type": "code",
   "execution_count": 124,
   "metadata": {
    "collapsed": false
   },
   "outputs": [
    {
     "data": {
      "text/plain": [
       "0.51398347404519229"
      ]
     },
     "execution_count": 124,
     "metadata": {},
     "output_type": "execute_result"
    }
   ],
   "source": [
    "cross_val_score(lm, x_train[imp_feats], y_train, cv=10, scoring=quadratic_weighted_kappa).mean()"
   ]
  },
  {
   "cell_type": "code",
   "execution_count": null,
   "metadata": {
    "collapsed": true
   },
   "outputs": [],
   "source": []
  }
 ],
 "metadata": {
  "kernelspec": {
   "display_name": "Python 2",
   "language": "python",
   "name": "python2"
  },
  "language_info": {
   "codemirror_mode": {
    "name": "ipython",
    "version": 2
   },
   "file_extension": ".py",
   "mimetype": "text/x-python",
   "name": "python",
   "nbconvert_exporter": "python",
   "pygments_lexer": "ipython2",
   "version": "2.7.11"
  }
 },
 "nbformat": 4,
 "nbformat_minor": 0
}
