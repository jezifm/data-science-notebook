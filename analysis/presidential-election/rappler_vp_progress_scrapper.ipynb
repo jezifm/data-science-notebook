{
 "cells": [
  {
   "cell_type": "code",
   "execution_count": 19,
   "metadata": {
    "collapsed": false
   },
   "outputs": [],
   "source": [
    "import requests\n",
    "import time\n",
    "import numpy as np\n",
    "import pandas as pd\n",
    "import datetime as dt\n",
    "\n",
    "%matplotlib inline\n",
    "import matplotlib.pyplot as plt\n",
    "plt.style.use('ggplot')\n",
    "plt.rcParams['figure.figsize'] = (18, 8)\n",
    "cat_colors = ['#1f77b4', '#aec7e8', '#ff7f0e', '#ffbb78', '#2ca02c', \n",
    "              '#98df8a', '#d62728', '#ff9896', '#9467bd', '#c5b0d5', \n",
    "              '#8c564b', '#c49c94', '#e377c2', '#f7b6d2', '#7f7f7f', \n",
    "              '#c7c7c7', '#bcbd22', '#dbdb8d', '#17becf', '#9edae5']"
   ]
  },
  {
   "cell_type": "code",
   "execution_count": 2,
   "metadata": {
    "collapsed": false
   },
   "outputs": [],
   "source": [
    "robots = requests.get('http://www.rappler.com/robots.txt')\n",
    "crawl_delay = [int(row.split(':')[1]) for row in robots.text.split('\\n') if 'Crawl-delay' in row]\n",
    "crawl_delay = crawl_delay[0] if crawl_delay else 30\n",
    "crawl_delay = 0"
   ]
  },
  {
   "cell_type": "code",
   "execution_count": 3,
   "metadata": {
    "collapsed": true
   },
   "outputs": [],
   "source": [
    "r_phl1 = requests.get('http://ph.rappler.com/stubs/phl1.json')\n",
    "time.sleep(crawl_delay)\n",
    "r_phl2 = requests.get('http://ph.rappler.com/stubs/phl2.json')"
   ]
  },
  {
   "cell_type": "code",
   "execution_count": 4,
   "metadata": {
    "collapsed": false
   },
   "outputs": [],
   "source": [
    "phl1 = r_phl1.json()\n",
    "phl2 = r_phl2.json()"
   ]
  },
  {
   "cell_type": "code",
   "execution_count": 5,
   "metadata": {
    "collapsed": false
   },
   "outputs": [],
   "source": [
    "provinces = [province['properties']['name'] \n",
    "             for province in phl1['objects']['subunits']['geometries'] \n",
    "             if 'properties' in province]"
   ]
  },
  {
   "cell_type": "code",
   "execution_count": 6,
   "metadata": {
    "collapsed": false
   },
   "outputs": [],
   "source": [
    "cities = [province['properties']['name'] \n",
    "          for province in phl2['objects']['subunits']['geometries'] \n",
    "          if 'properties' in province]"
   ]
  },
  {
   "cell_type": "code",
   "execution_count": 7,
   "metadata": {
    "collapsed": false,
    "scrolled": false
   },
   "outputs": [
    {
     "name": "stdout",
     "output_type": "stream",
     "text": [
      "getting Tawi Tawi ...\n",
      "getting Bohol ...\n",
      "getting Cebu ...\n",
      "getting Negros Oriental ...\n",
      "getting Siquijor ...\n",
      "getting Negros Occidental ...\n",
      "getting Basilan ...\n",
      "getting Zamboanga del Norte ...\n",
      "getting Zamboanga Sibugay ...\n",
      "getting Zamboanga del Sur ...\n",
      "getting Misamis Occidental ...\n",
      "getting Sulu ...\n",
      "getting Aklan ...\n",
      "getting Antique ...\n",
      "getting Capiz ...\n",
      "getting Iloilo ...\n",
      "getting Guimaras ...\n",
      "getting Palawan ...\n",
      "getting Romblon ...\n",
      "getting Albay ...\n",
      "getting Camarines-Norte ...\n",
      "getting Camarines-Sur ...\n",
      "getting Catanduanes ...\n",
      "getting Masbate ...\n",
      "getting Sorsogon ...\n",
      "getting Abra ...\n",
      "getting Batanes ...\n",
      "getting Cagayan ...\n",
      "getting Apayao ...\n",
      "getting Ilocos-Norte ...\n",
      "getting Ilocos-Sur ...\n",
      "getting Aurora ...\n",
      "getting Isabela ...\n",
      "getting Ifugao ...\n",
      "getting Mountain-Province ...\n",
      "getting Nueva-Vizcaya ...\n",
      "getting Quirino ...\n",
      "getting Bataan ...\n",
      "getting Tarlac ...\n",
      "getting Nueva-Ecija ...\n",
      "getting Pampanga ...\n",
      "getting Benguet ...\n",
      "getting Zambales ...\n",
      "getting La-Union ...\n",
      "getting Pangasinan ...\n",
      "getting Cavite ...\n",
      "getting Batangas ...\n",
      "getting Bulacan ...\n",
      "getting Laguna ...\n",
      "getting Rizal ...\n",
      "getting Marinduque ...\n",
      "getting Occidental Mindoro ...\n",
      "getting Oriental Mindoro ...\n",
      "getting Quezon ...\n",
      "getting Lanao del Norte ...\n",
      "getting Lanao del Sur ...\n",
      "getting Maguindanao ...\n",
      "getting Cotabato ...\n",
      "getting Sultan-Kudarat ...\n",
      "getting Biliran ...\n",
      "getting Eastern-Samar ...\n",
      "getting Leyte ...\n",
      "getting Samar ...\n",
      "getting Southern-Leyte ...\n",
      "getting Northern-Samar ...\n",
      "getting Agusan del Norte ...\n",
      "getting Agusan del Sur ...\n",
      "getting Bukidnon ...\n",
      "getting Camiguin ...\n",
      "getting Davao del Norte ...\n",
      "getting Compostela-Valley ...\n",
      "getting Surigao del Norte ...\n",
      "getting Surigao del Sur ...\n",
      "getting Misamis-Oriental ...\n",
      "getting Davao del Sur ...\n",
      "getting Davao-Oriental ...\n",
      "getting Sarangani ...\n",
      "getting South-Cotabato ...\n",
      "getting Kalinga ...\n",
      "getting Zamboanga-City ...\n",
      "getting Isabela-City ...\n",
      "getting Cebu ...\n",
      "getting Mandaue ...\n",
      "getting Lapu Lapu City ...\n",
      "getting Bacolod City ...\n",
      "getting Iloilo ...\n",
      "getting Cotabato ...\n",
      "getting Davao City ...\n",
      "getting General Santos City ...\n",
      "getting Iligan City ...\n",
      "getting Cagayan de Oro City ...\n",
      "getting Butuan City ...\n",
      "getting Puerto-Princesa City ...\n",
      "getting Ormoc City ...\n",
      "getting Tacloban City ...\n",
      "getting Naga City ...\n",
      "getting Santiago City ...\n",
      "getting Angeles City ...\n",
      "getting Baguio City ...\n",
      "getting Olongapo City ...\n",
      "getting Dagupan City ...\n",
      "getting Mandaluyong-City ...\n",
      "getting Manila ...\n",
      "getting Navotas City ...\n",
      "getting Caloocan City ...\n",
      "getting Malabon City ...\n",
      "getting Valenzuela City ...\n",
      "getting Quezon-City ...\n",
      "getting Marikina City ...\n",
      "getting San-Juan City ...\n",
      "getting Pasig City ...\n",
      "getting Makati City ...\n",
      "getting Pasay City ...\n",
      "getting Parañaque City ...\n",
      "getting Las Piñas City ...\n",
      "getting Muntinlupa City ...\n",
      "getting Taguig City ...\n",
      "getting Pateros ...\n",
      "getting Lucena City ...\n"
     ]
    }
   ],
   "source": [
    "data = []\n",
    "endpoint = 'http://ph.rappler.com/api/Locations/name/'\n",
    "for province in provinces:\n",
    "    print 'getting %s ...' % province\n",
    "    r = requests.get(endpoint, params={'q': province.replace('-', ' ')})\n",
    "    if r.status_code == 200:\n",
    "        row = r.json()\n",
    "        if row:\n",
    "            data.append(row[0])\n",
    "    time.sleep(crawl_delay)"
   ]
  },
  {
   "cell_type": "code",
   "execution_count": null,
   "metadata": {
    "collapsed": true
   },
   "outputs": [],
   "source": [
    "requests.a"
   ]
  },
  {
   "cell_type": "code",
   "execution_count": 8,
   "metadata": {
    "collapsed": false
   },
   "outputs": [
    {
     "name": "stdout",
     "output_type": "stream",
     "text": [
      "getting Mandaluyong City ...\n",
      "getting Manila ...\n",
      "getting Navotas City ...\n",
      "getting Caloocan City ...\n",
      "getting Malabon City ...\n",
      "getting Valenzuela City ...\n",
      "getting Quezon City ...\n",
      "getting Marikina-City ...\n",
      "getting San Juan City ...\n",
      "getting Pasig-City ...\n",
      "getting Makati-City ...\n",
      "getting Pasay-City ...\n",
      "getting Parañaque-City ...\n",
      "getting Las Piñas City ...\n",
      "getting Muntinlupa City ...\n",
      "getting Taguig City ...\n",
      "getting Pateros ...\n",
      "getting Lucena City ...\n"
     ]
    }
   ],
   "source": [
    "for city in cities:\n",
    "    print 'getting %s ...' % city\n",
    "    r = requests.get(endpoint, params={'q': city})\n",
    "    if r.status_code == 200:\n",
    "        row = r.json()\n",
    "        if row:\n",
    "            data.append(row[0])\n",
    "    time.sleep(crawl_delay)"
   ]
  },
  {
   "cell_type": "code",
   "execution_count": 9,
   "metadata": {
    "collapsed": false
   },
   "outputs": [],
   "source": [
    "geo_table = pd.DataFrame([row.values() for row in data], columns=data[0].keys())"
   ]
  },
  {
   "cell_type": "code",
   "execution_count": 10,
   "metadata": {
    "collapsed": false
   },
   "outputs": [],
   "source": [
    "vote_count_endpoint = 'http://ph.rappler.com/api/Votes/live/transmission/location/id/{id}'"
   ]
  },
  {
   "cell_type": "code",
   "execution_count": 12,
   "metadata": {
    "collapsed": false,
    "scrolled": true
   },
   "outputs": [
    {
     "name": "stdout",
     "output_type": "stream",
     "text": [
      "getting 21 ...\n",
      "getting 22 ...\n",
      "getting 23 ...\n",
      "getting 24 ...\n",
      "getting 25 ...\n",
      "getting 26 ...\n",
      "getting 27 ...\n",
      "getting 28 ...\n",
      "getting 29 ...\n",
      "getting 30 ...\n",
      "getting 31 ...\n",
      "getting 32 ...\n",
      "getting 33 ...\n",
      "getting 34 ...\n",
      "getting 35 ...\n",
      "getting 36 ...\n",
      "getting 37 ...\n",
      "getting 38 ...\n",
      "getting 39 ...\n",
      "getting 40 ...\n",
      "getting 41 ...\n",
      "getting 42 ...\n",
      "getting 43 ...\n",
      "getting 44 ...\n",
      "getting 45 ...\n",
      "getting 46 ...\n",
      "getting 47 ...\n",
      "getting 48 ...\n",
      "getting 49 ...\n",
      "getting 50 ...\n",
      "getting 51 ...\n",
      "getting 52 ...\n",
      "getting 53 ...\n",
      "getting 54 ...\n",
      "getting 55 ...\n",
      "getting 56 ...\n",
      "getting 57 ...\n",
      "getting 58 ...\n",
      "getting 59 ...\n",
      "getting 60 ...\n",
      "getting 61 ...\n",
      "getting 62 ...\n",
      "getting 63 ...\n",
      "getting 63 ...\n",
      "getting 64 ...\n",
      "getting 65 ...\n",
      "getting 66 ...\n",
      "getting 67 ...\n",
      "getting 67 ...\n",
      "getting 68 ...\n",
      "getting 69 ...\n",
      "getting 70 ...\n",
      "getting 71 ...\n",
      "getting 72 ...\n",
      "getting 73 ...\n",
      "getting 74 ...\n",
      "getting 75 ...\n",
      "getting 76 ...\n",
      "getting 77 ...\n",
      "getting 78 ...\n",
      "getting 79 ...\n",
      "getting 80 ...\n",
      "getting 81 ...\n",
      "getting 82 ...\n",
      "getting 83 ...\n",
      "getting 84 ...\n",
      "getting 85 ...\n",
      "getting 87 ...\n",
      "getting 88 ...\n",
      "getting 88 ...\n",
      "getting 89 ...\n",
      "getting 90 ...\n",
      "getting 91 ...\n",
      "getting 92 ...\n",
      "getting 93 ...\n",
      "getting 95 ...\n",
      "getting 96 ...\n",
      "getting 97 ...\n",
      "getting 98 ...\n",
      "getting 99 ...\n",
      "getting 100 ...\n",
      "getting 102 ...\n",
      "getting 102 ...\n",
      "getting 103 ...\n",
      "getting 103 ...\n",
      "getting 104 ...\n",
      "getting 104 ...\n",
      "getting 105 ...\n",
      "getting 106 ...\n",
      "getting 107 ...\n",
      "getting 107 ...\n",
      "getting 108 ...\n",
      "getting 109 ...\n",
      "getting 110 ...\n",
      "getting 110 ...\n",
      "getting 111 ...\n",
      "getting 111 ...\n",
      "getting 112 ...\n",
      "getting 113 ...\n",
      "getting 113 ...\n",
      "getting 114 ...\n",
      "getting 114 ...\n",
      "getting 115 ...\n",
      "getting 115 ...\n",
      "getting 116 ...\n",
      "getting 116 ...\n",
      "getting 117 ...\n",
      "getting 117 ...\n",
      "getting 118 ...\n",
      "getting 118 ...\n",
      "getting 166 ...\n",
      "getting 318 ...\n",
      "getting 392 ...\n",
      "getting 509 ...\n",
      "getting 543 ...\n",
      "getting 670 ...\n",
      "getting 670 ...\n",
      "getting 741 ...\n",
      "getting 825 ...\n",
      "getting 993 ...\n",
      "getting 1127 ...\n",
      "getting 1210 ...\n",
      "getting 1211 ...\n",
      "getting 1335 ...\n",
      "getting 1401 ...\n",
      "getting 1442 ...\n",
      "getting 1477 ...\n",
      "getting 1529 ...\n",
      "getting 1553 ...\n",
      "getting 3914 ...\n"
     ]
    }
   ],
   "source": [
    "voter_data = []\n",
    "for _id in geo_table['id'].sort_values():\n",
    "    r = requests.get(vote_count_endpoint.format(id=_id))\n",
    "    print 'getting %s ...' % _id\n",
    "    try:\n",
    "        geo_data = r.json()\n",
    "        if geo_data:\n",
    "            geo_data = geo_data[0]\n",
    "            for geo_row in geo_data['transmission_data']: \n",
    "                for attribute in ['location_id', 'location_name', 'total_registered_voters', 'total_votes_count']:\n",
    "                    geo_row[attribute] = geo_data[attribute]\n",
    "                voter_data.append(geo_row)\n",
    "    except:\n",
    "        pass\n",
    "    time.sleep(crawl_delay)"
   ]
  },
  {
   "cell_type": "code",
   "execution_count": 13,
   "metadata": {
    "collapsed": false
   },
   "outputs": [],
   "source": [
    "votes_per_province = pd.DataFrame([row.values() for row in voter_data], columns=voter_data[0].keys())"
   ]
  },
  {
   "cell_type": "code",
   "execution_count": 14,
   "metadata": {
    "collapsed": false
   },
   "outputs": [],
   "source": [
    "votes_per_province['date'] = votes_per_province['date'].apply(lambda x: dt.datetime.fromtimestamp(x/1000))"
   ]
  },
  {
   "cell_type": "code",
   "execution_count": 15,
   "metadata": {
    "collapsed": false
   },
   "outputs": [],
   "source": [
    "plot_data = votes_per_province.pivot_table('percent', 'date', 'location_name', max)"
   ]
  },
  {
   "cell_type": "code",
   "execution_count": 16,
   "metadata": {
    "collapsed": false
   },
   "outputs": [],
   "source": [
    "geo_table.to_csv('rappler_geo.csv', index=False, encoding='utf-8')"
   ]
  },
  {
   "cell_type": "code",
   "execution_count": 17,
   "metadata": {
    "collapsed": false
   },
   "outputs": [],
   "source": [
    "votes_per_province.to_csv('rappler_tx_data.csv', index=False, encoding='utf-8')"
   ]
  },
  {
   "cell_type": "code",
   "execution_count": null,
   "metadata": {
    "collapsed": true
   },
   "outputs": [],
   "source": []
  }
 ],
 "metadata": {
  "kernelspec": {
   "display_name": "Python 2",
   "language": "python",
   "name": "python2"
  },
  "language_info": {
   "codemirror_mode": {
    "name": "ipython",
    "version": 2
   },
   "file_extension": ".py",
   "mimetype": "text/x-python",
   "name": "python",
   "nbconvert_exporter": "python",
   "pygments_lexer": "ipython2",
   "version": "2.7.11"
  }
 },
 "nbformat": 4,
 "nbformat_minor": 0
}
