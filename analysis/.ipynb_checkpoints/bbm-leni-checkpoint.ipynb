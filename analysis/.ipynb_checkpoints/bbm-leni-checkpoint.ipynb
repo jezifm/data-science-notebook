{
 "cells": [
  {
   "cell_type": "code",
   "execution_count": 1,
   "metadata": {
    "collapsed": false
   },
   "outputs": [
    {
     "name": "stderr",
     "output_type": "stream",
     "text": [
      "C:\\Users\\asus1\\Anaconda2\\lib\\site-packages\\pandas\\computation\\__init__.py:19: UserWarning: The installed version of numexpr 2.4.4 is not supported in pandas and will be not be used\n",
      "\n",
      "  UserWarning)\n"
     ]
    }
   ],
   "source": [
    "import numpy as np\n",
    "import pandas as pd\n",
    "import datetime as dt\n",
    "\n",
    "import seaborn as sns\n",
    "%matplotlib inline\n",
    "import matplotlib.pyplot as plt\n",
    "plt.style.use('ggplot')"
   ]
  },
  {
   "cell_type": "code",
   "execution_count": 2,
   "metadata": {
    "collapsed": true
   },
   "outputs": [],
   "source": [
    "df = pd.read_excel('../input/VP2016_votesPerRegion_Rappler.xlsx')"
   ]
  },
  {
   "cell_type": "code",
   "execution_count": 4,
   "metadata": {
    "collapsed": false
   },
   "outputs": [
    {
     "data": {
      "text/html": [
       "<div>\n",
       "<table border=\"1\" class=\"dataframe\">\n",
       "  <thead>\n",
       "    <tr style=\"text-align: right;\">\n",
       "      <th></th>\n",
       "      <th>timestamp</th>\n",
       "      <th>CAYETANO</th>\n",
       "      <th>ESCUDERO</th>\n",
       "      <th>HONASAN</th>\n",
       "      <th>MARCOS</th>\n",
       "      <th>ROBREDO</th>\n",
       "      <th>TRILLANES</th>\n",
       "    </tr>\n",
       "  </thead>\n",
       "  <tbody>\n",
       "    <tr>\n",
       "      <th>0</th>\n",
       "      <td>2016-05-09 17:15:06</td>\n",
       "      <td>408</td>\n",
       "      <td>962</td>\n",
       "      <td>144</td>\n",
       "      <td>3046</td>\n",
       "      <td>1851</td>\n",
       "      <td>162</td>\n",
       "    </tr>\n",
       "    <tr>\n",
       "      <th>1</th>\n",
       "      <td>2016-05-09 18:45:47</td>\n",
       "      <td>408</td>\n",
       "      <td>962</td>\n",
       "      <td>144</td>\n",
       "      <td>3046</td>\n",
       "      <td>1851</td>\n",
       "      <td>162</td>\n",
       "    </tr>\n",
       "    <tr>\n",
       "      <th>2</th>\n",
       "      <td>2016-05-09 18:46:30</td>\n",
       "      <td>1712</td>\n",
       "      <td>3576</td>\n",
       "      <td>437</td>\n",
       "      <td>11585</td>\n",
       "      <td>6938</td>\n",
       "      <td>481</td>\n",
       "    </tr>\n",
       "    <tr>\n",
       "      <th>3</th>\n",
       "      <td>2016-05-09 18:47:11</td>\n",
       "      <td>2490</td>\n",
       "      <td>5146</td>\n",
       "      <td>621</td>\n",
       "      <td>16190</td>\n",
       "      <td>10536</td>\n",
       "      <td>751</td>\n",
       "    </tr>\n",
       "    <tr>\n",
       "      <th>4</th>\n",
       "      <td>2016-05-09 18:47:38</td>\n",
       "      <td>15822</td>\n",
       "      <td>29959</td>\n",
       "      <td>3072</td>\n",
       "      <td>91270</td>\n",
       "      <td>59874</td>\n",
       "      <td>4270</td>\n",
       "    </tr>\n",
       "  </tbody>\n",
       "</table>\n",
       "</div>"
      ],
      "text/plain": [
       "             timestamp  CAYETANO  ESCUDERO  HONASAN  MARCOS  ROBREDO  \\\n",
       "0  2016-05-09 17:15:06       408       962      144    3046     1851   \n",
       "1  2016-05-09 18:45:47       408       962      144    3046     1851   \n",
       "2  2016-05-09 18:46:30      1712      3576      437   11585     6938   \n",
       "3  2016-05-09 18:47:11      2490      5146      621   16190    10536   \n",
       "4  2016-05-09 18:47:38     15822     29959     3072   91270    59874   \n",
       "\n",
       "   TRILLANES  \n",
       "0        162  \n",
       "1        162  \n",
       "2        481  \n",
       "3        751  \n",
       "4       4270  "
      ]
     },
     "execution_count": 4,
     "metadata": {},
     "output_type": "execute_result"
    }
   ],
   "source": [
    "df.head()"
   ]
  },
  {
   "cell_type": "code",
   "execution_count": null,
   "metadata": {
    "collapsed": true
   },
   "outputs": [],
   "source": []
  }
 ],
 "metadata": {
  "kernelspec": {
   "display_name": "Python 2",
   "language": "python",
   "name": "python2"
  },
  "language_info": {
   "codemirror_mode": {
    "name": "ipython",
    "version": 2
   },
   "file_extension": ".py",
   "mimetype": "text/x-python",
   "name": "python",
   "nbconvert_exporter": "python",
   "pygments_lexer": "ipython2",
   "version": "2.7.11"
  }
 },
 "nbformat": 4,
 "nbformat_minor": 0
}
